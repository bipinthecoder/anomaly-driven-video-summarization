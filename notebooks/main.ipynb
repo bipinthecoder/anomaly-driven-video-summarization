{
 "cells": [
  {
   "cell_type": "code",
   "execution_count": 1,
   "id": "c8f05811-1e1b-4985-9659-9efc15eae3fe",
   "metadata": {},
   "outputs": [],
   "source": [
    "import cv2\n",
    "import tensorflow as tf\n",
    "import matplotlib.pyplot as plt\n",
    "import numpy as np\n",
    "import os\n",
    "import random"
   ]
  },
  {
   "cell_type": "code",
   "execution_count": 2,
   "id": "97fa8961-097a-4494-aff7-7969c661bacc",
   "metadata": {},
   "outputs": [],
   "source": [
    "from utils import helper_functions as hf\n",
    "from utils import change_detection as cd\n",
    "import Config as Config"
   ]
  },
  {
   "cell_type": "code",
   "execution_count": 3,
   "id": "83623a92-4c2e-4fdf-a5f6-12163631e321",
   "metadata": {},
   "outputs": [
    {
     "data": {
      "text/plain": [
       "'./videos/Anomaly Videos/Vandalism019_x264.mp4'"
      ]
     },
     "execution_count": 3,
     "metadata": {},
     "output_type": "execute_result"
    }
   ],
   "source": [
    "files_in_anomaly_directory = os.listdir(Config.ANOMALY_VIDEO_DIRECTORY)\n",
    "anomaly_video_file = random.choice(files_in_anomaly_directory)\n",
    "anomaly_video_file_path = os.path.join(Config.ANOMALY_VIDEO_DIRECTORY, anomaly_video_file)\n",
    "anomaly_video_file_path"
   ]
  },
  {
   "cell_type": "code",
   "execution_count": 4,
   "id": "5977358b-68ce-494c-9360-04343ce9e80c",
   "metadata": {},
   "outputs": [
    {
     "data": {
      "text/plain": [
       "'./videos/test videos/Anomaly Videos/Robbery056_x264.mp4'"
      ]
     },
     "execution_count": 4,
     "metadata": {},
     "output_type": "execute_result"
    }
   ],
   "source": [
    "anomaly_video_file_path = Config.TO_PROCESS_VIDEO_FILE_PATH\n",
    "anomaly_video_file_path"
   ]
  },
  {
   "cell_type": "code",
   "execution_count": 5,
   "id": "75403eef-173b-41e0-8752-5e632be76011",
   "metadata": {},
   "outputs": [
    {
     "name": "stderr",
     "output_type": "stream",
     "text": [
      "2023-08-13 15:32:22.521876: I tensorflow/core/common_runtime/gpu/gpu_device.cc:1639] Created device /job:localhost/replica:0/task:0/device:GPU:0 with 9798 MB memory:  -> device: 0, name: NVIDIA GeForce RTX 2080 Ti, pci bus id: 0000:01:00.0, compute capability: 7.5\n"
     ]
    }
   ],
   "source": [
    "model = tf.keras.models.load_model(Config.FINE_TUNED_LSTM_AUTO_ENCODER_PATH)"
   ]
  },
  {
   "cell_type": "code",
   "execution_count": 6,
   "id": "facc6195-bbb2-4c19-82cc-e43ce3263e97",
   "metadata": {},
   "outputs": [],
   "source": [
    "#Extracting all the frames\n",
    "video_frames_dict = hf.get_frames_from_video(anomaly_video_file_path)"
   ]
  },
  {
   "cell_type": "code",
   "execution_count": 7,
   "id": "f2d2ecef-6c66-4b8b-9500-26d9543ec13e",
   "metadata": {},
   "outputs": [
    {
     "data": {
      "text/plain": [
       "2761"
      ]
     },
     "execution_count": 7,
     "metadata": {},
     "output_type": "execute_result"
    }
   ],
   "source": [
    "len(video_frames_dict)"
   ]
  },
  {
   "cell_type": "code",
   "execution_count": 8,
   "id": "ca68e660-083f-4acd-9aa0-bf004933d36f",
   "metadata": {},
   "outputs": [],
   "source": [
    "frames_in_batches = hf.get_frames_in_batches(30, video_frames_dict)"
   ]
  },
  {
   "cell_type": "code",
   "execution_count": 9,
   "id": "9bd386db-8474-4767-b3ad-74d70b8b5901",
   "metadata": {},
   "outputs": [],
   "source": [
    "frame_sequence_tracker = hf.get_frame_sequence_tracker(frames_in_batches)"
   ]
  },
  {
   "cell_type": "code",
   "execution_count": 10,
   "id": "6d12535d-dfb4-47f5-b626-9a0d410d1fba",
   "metadata": {},
   "outputs": [
    {
     "data": {
      "text/plain": [
       "92"
      ]
     },
     "execution_count": 10,
     "metadata": {},
     "output_type": "execute_result"
    }
   ],
   "source": [
    "len(frame_sequence_tracker)"
   ]
  },
  {
   "cell_type": "code",
   "execution_count": 11,
   "id": "9419f04c-a4a4-437d-a6fe-9995b5bf6249",
   "metadata": {},
   "outputs": [
    {
     "data": {
      "text/plain": [
       "(30, 256, 256, 1)"
      ]
     },
     "execution_count": 11,
     "metadata": {},
     "output_type": "execute_result"
    }
   ],
   "source": [
    "frame_sequence_tracker[1].shape"
   ]
  },
  {
   "cell_type": "code",
   "execution_count": 12,
   "id": "a3152e27-e53b-46f4-816a-0db29e520245",
   "metadata": {},
   "outputs": [],
   "source": [
    "significant_keys = cd.perform_change_detection(frame_sequence_tracker)"
   ]
  },
  {
   "cell_type": "code",
   "execution_count": 13,
   "id": "34766cf7-04bd-4e14-ae61-5f319266d7c5",
   "metadata": {},
   "outputs": [
    {
     "data": {
      "text/plain": [
       "29"
      ]
     },
     "execution_count": 13,
     "metadata": {},
     "output_type": "execute_result"
    }
   ],
   "source": [
    "len(significant_keys)"
   ]
  },
  {
   "cell_type": "code",
   "execution_count": 26,
   "id": "008d15cb-631e-41b1-ba41-72d18e525cdc",
   "metadata": {},
   "outputs": [],
   "source": [
    "#Testing the logic of comparison with insignificant frames\n",
    "# insignificant_keys = []\n",
    "\n",
    "\n",
    "# for k in range(1, significant_keys[0]):\n",
    "#     if k not in significant_keys:\n",
    "#         insignificant_keys.append(k)\n",
    "#         break\n",
    "# if len(insignificant_keys) == 0:\n",
    "#     print('Empty Insignificant Key')\n",
    "#     for k in range(1, significant_keys[-1]):\n",
    "#         if k not in significant_keys:\n",
    "#             insignificant_keys.append(k)\n",
    "#             break"
   ]
  },
  {
   "cell_type": "code",
   "execution_count": 14,
   "id": "316d1e34-b2db-4bdf-b257-89cdef3d1164",
   "metadata": {},
   "outputs": [],
   "source": [
    "insignificant_keys = hf.get_insignificant_frame(significant_keys)  "
   ]
  },
  {
   "cell_type": "code",
   "execution_count": 15,
   "id": "0e0f04ff-a66a-43ff-b4fe-a37567ad52ee",
   "metadata": {},
   "outputs": [
    {
     "data": {
      "text/plain": [
       "[4]"
      ]
     },
     "execution_count": 15,
     "metadata": {},
     "output_type": "execute_result"
    }
   ],
   "source": [
    "insignificant_keys"
   ]
  },
  {
   "cell_type": "code",
   "execution_count": 17,
   "id": "13367b74-8516-4ffc-9461-88d2c6b99d31",
   "metadata": {},
   "outputs": [
    {
     "name": "stdout",
     "output_type": "stream",
     "text": [
      "1/1 [==============================] - 0s 31ms/step\n",
      "1/1 [==============================] - 0s 37ms/step\n",
      "1/1 [==============================] - 0s 27ms/step\n"
     ]
    }
   ],
   "source": [
    "        \n",
    "#Checking the prediction value of insignificant frame\n",
    "insig_cost_tracker = {}\n",
    "\n",
    "for key in insignificant_keys:\n",
    "    insignificant_sequence = frame_sequence_tracker[insignificant_keys[0]]\n",
    "    reshaped_insignificant_sequences = insignificant_sequence.reshape(3, 10, 256, 256, 1)\n",
    "\n",
    "    for index, single_sequence in enumerate(reshaped_insignificant_sequences):\n",
    "            single_sequence = np.expand_dims(single_sequence, axis=0)\n",
    "            reconstructed_sequence = model.predict(single_sequence)  \n",
    "\n",
    "            # Calculating reconstruction cost for the single sequence\n",
    "            # cost = np.linalg.norm(single_sequence - reconstructed_sequence[0])\n",
    "            cost = hf.get_reconstruction_cost(single_sequence, reconstructed_sequence)\n",
    "            insig_cost_tracker[f'{key}_{index}'] = cost"
   ]
  },
  {
   "cell_type": "code",
   "execution_count": 18,
   "id": "73d80928-4d41-4f27-a69a-29d71e0ade36",
   "metadata": {},
   "outputs": [
    {
     "data": {
      "text/plain": [
       "{'4_0': 68.2987, '4_1': 69.54286, '4_2': 71.5471}"
      ]
     },
     "execution_count": 18,
     "metadata": {},
     "output_type": "execute_result"
    }
   ],
   "source": [
    "insig_cost_tracker"
   ]
  },
  {
   "cell_type": "code",
   "execution_count": 19,
   "id": "af3e8782-eefb-4283-81fb-89c20635799c",
   "metadata": {},
   "outputs": [],
   "source": [
    "# def get_max_from_cost_dict(cost_dict):\n",
    "#     max = 0\n",
    "    \n",
    "#     for key, value in cost_dict.items():\n",
    "#         if value > max:\n",
    "#             max = value\n",
    "#     return max"
   ]
  },
  {
   "cell_type": "code",
   "execution_count": 20,
   "id": "89e1b7e6-b8c4-43a7-b6af-909f70ad9cf2",
   "metadata": {},
   "outputs": [],
   "source": [
    "# def get_anomaly_threshold_from_normal_cost(cost):\n",
    "#     five_percent_cost = 0.05 * cost\n",
    "#     anomaly_threshold = five_percent_cost + cost\n",
    "#     return anomaly_threshold    "
   ]
  },
  {
   "cell_type": "code",
   "execution_count": 21,
   "id": "626c32b8-6f74-4130-b14e-66171bf2bdee",
   "metadata": {},
   "outputs": [],
   "source": [
    "max_insignificant_prediction_score = hf.get_max_from_cost_dict(insig_cost_tracker)"
   ]
  },
  {
   "cell_type": "code",
   "execution_count": 23,
   "id": "cc1e20a2-a106-4996-935f-22d5fe78013f",
   "metadata": {},
   "outputs": [
    {
     "data": {
      "text/plain": [
       "71.5471"
      ]
     },
     "execution_count": 23,
     "metadata": {},
     "output_type": "execute_result"
    }
   ],
   "source": [
    "max_insignificant_prediction_score"
   ]
  },
  {
   "cell_type": "code",
   "execution_count": 25,
   "id": "753b6578-b4a6-4e04-a85d-8b1dde2a52eb",
   "metadata": {},
   "outputs": [
    {
     "data": {
      "text/plain": [
       "75.12445106506348"
      ]
     },
     "execution_count": 25,
     "metadata": {},
     "output_type": "execute_result"
    }
   ],
   "source": [
    "anomaly_threshold = hf.get_anomaly_threshold_from_normal_cost(max_insignificant_prediction_score)\n",
    "anomaly_threshold"
   ]
  },
  {
   "cell_type": "code",
   "execution_count": 26,
   "id": "4fc19dc1-4e0b-4d03-958d-ba0d2848edd2",
   "metadata": {},
   "outputs": [
    {
     "name": "stdout",
     "output_type": "stream",
     "text": [
      "1/1 [==============================] - 0s 27ms/step\n",
      "1/1 [==============================] - 0s 27ms/step\n",
      "1/1 [==============================] - 0s 27ms/step\n",
      "1/1 [==============================] - 0s 27ms/step\n",
      "1/1 [==============================] - 0s 26ms/step\n",
      "1/1 [==============================] - 0s 26ms/step\n",
      "1/1 [==============================] - 0s 27ms/step\n",
      "1/1 [==============================] - 0s 27ms/step\n",
      "1/1 [==============================] - 0s 26ms/step\n",
      "1/1 [==============================] - 0s 27ms/step\n",
      "1/1 [==============================] - 0s 26ms/step\n",
      "1/1 [==============================] - 0s 26ms/step\n",
      "1/1 [==============================] - 0s 29ms/step\n",
      "1/1 [==============================] - 0s 27ms/step\n",
      "1/1 [==============================] - 0s 28ms/step\n",
      "1/1 [==============================] - 0s 26ms/step\n",
      "1/1 [==============================] - 0s 27ms/step\n",
      "1/1 [==============================] - 0s 28ms/step\n",
      "1/1 [==============================] - 0s 26ms/step\n",
      "1/1 [==============================] - 0s 28ms/step\n",
      "1/1 [==============================] - 0s 28ms/step\n",
      "1/1 [==============================] - 0s 26ms/step\n",
      "1/1 [==============================] - 0s 26ms/step\n",
      "1/1 [==============================] - 0s 26ms/step\n",
      "1/1 [==============================] - 0s 25ms/step\n",
      "1/1 [==============================] - 0s 36ms/step\n",
      "1/1 [==============================] - 0s 25ms/step\n",
      "1/1 [==============================] - 0s 25ms/step\n",
      "1/1 [==============================] - 0s 26ms/step\n",
      "1/1 [==============================] - 0s 27ms/step\n",
      "1/1 [==============================] - 0s 27ms/step\n",
      "1/1 [==============================] - 0s 25ms/step\n",
      "1/1 [==============================] - 0s 26ms/step\n",
      "1/1 [==============================] - 0s 26ms/step\n",
      "1/1 [==============================] - 0s 26ms/step\n",
      "1/1 [==============================] - 0s 25ms/step\n",
      "1/1 [==============================] - 0s 26ms/step\n",
      "1/1 [==============================] - 0s 26ms/step\n",
      "1/1 [==============================] - 0s 26ms/step\n",
      "1/1 [==============================] - 0s 26ms/step\n",
      "1/1 [==============================] - 0s 26ms/step\n",
      "1/1 [==============================] - 0s 26ms/step\n",
      "1/1 [==============================] - 0s 26ms/step\n",
      "1/1 [==============================] - 0s 25ms/step\n",
      "1/1 [==============================] - 0s 26ms/step\n",
      "1/1 [==============================] - 0s 26ms/step\n",
      "1/1 [==============================] - 0s 26ms/step\n",
      "1/1 [==============================] - 0s 26ms/step\n",
      "1/1 [==============================] - 0s 26ms/step\n",
      "1/1 [==============================] - 0s 26ms/step\n",
      "1/1 [==============================] - 0s 26ms/step\n",
      "1/1 [==============================] - 0s 26ms/step\n",
      "1/1 [==============================] - 0s 26ms/step\n",
      "1/1 [==============================] - 0s 26ms/step\n",
      "1/1 [==============================] - 0s 26ms/step\n",
      "1/1 [==============================] - 0s 29ms/step\n",
      "1/1 [==============================] - 0s 26ms/step\n",
      "1/1 [==============================] - 0s 26ms/step\n",
      "1/1 [==============================] - 0s 26ms/step\n",
      "1/1 [==============================] - 0s 29ms/step\n",
      "1/1 [==============================] - 0s 28ms/step\n",
      "1/1 [==============================] - 0s 26ms/step\n",
      "1/1 [==============================] - 0s 27ms/step\n",
      "1/1 [==============================] - 0s 25ms/step\n",
      "1/1 [==============================] - 0s 26ms/step\n",
      "1/1 [==============================] - 0s 28ms/step\n",
      "1/1 [==============================] - 0s 26ms/step\n",
      "1/1 [==============================] - 0s 26ms/step\n",
      "1/1 [==============================] - 0s 26ms/step\n",
      "1/1 [==============================] - 0s 26ms/step\n",
      "1/1 [==============================] - 0s 27ms/step\n",
      "1/1 [==============================] - 0s 26ms/step\n",
      "1/1 [==============================] - 0s 26ms/step\n",
      "1/1 [==============================] - 0s 26ms/step\n",
      "1/1 [==============================] - 0s 26ms/step\n",
      "1/1 [==============================] - 0s 26ms/step\n",
      "1/1 [==============================] - 0s 26ms/step\n",
      "1/1 [==============================] - 0s 26ms/step\n",
      "1/1 [==============================] - 0s 26ms/step\n",
      "1/1 [==============================] - 0s 25ms/step\n",
      "1/1 [==============================] - 0s 26ms/step\n",
      "1/1 [==============================] - 0s 26ms/step\n",
      "1/1 [==============================] - 0s 26ms/step\n",
      "1/1 [==============================] - 0s 25ms/step\n",
      "1/1 [==============================] - 0s 26ms/step\n",
      "1/1 [==============================] - 0s 26ms/step\n",
      "1/1 [==============================] - 0s 26ms/step\n"
     ]
    }
   ],
   "source": [
    "cost_tracker = {}\n",
    "for key in significant_keys:\n",
    "    significant_sequence = frame_sequence_tracker[key]\n",
    "    reshaped_sequences = significant_sequence.reshape(3, 10, 256, 256, 1)\n",
    "    for index, single_sequence in enumerate(reshaped_sequences):\n",
    "        single_sequence = np.expand_dims(single_sequence, axis=0)\n",
    "        reconstructed_sequence = model.predict(single_sequence)  \n",
    "        \n",
    "        # Calculating reconstruction cost for the single sequence\n",
    "        cost = np.linalg.norm(single_sequence - reconstructed_sequence[0])\n",
    "        cost_tracker[f'{key}_{index}'] = cost\n"
   ]
  },
  {
   "cell_type": "code",
   "execution_count": 27,
   "id": "6dcbe990-4c14-40d5-b47c-a460f760ab7a",
   "metadata": {},
   "outputs": [
    {
     "data": {
      "text/plain": [
       "[4]"
      ]
     },
     "execution_count": 27,
     "metadata": {},
     "output_type": "execute_result"
    }
   ],
   "source": [
    "insignificant_keys"
   ]
  },
  {
   "cell_type": "code",
   "execution_count": 28,
   "id": "32a47cdf-deeb-4f67-b4a9-cfccea569d26",
   "metadata": {},
   "outputs": [],
   "source": [
    "keys_to_consider = set() #Defining as a set to avoid duplicates"
   ]
  },
  {
   "cell_type": "code",
   "execution_count": null,
   "id": "2e293e9b-f85b-48d9-8a8b-8224e22d19df",
   "metadata": {},
   "outputs": [],
   "source": []
  },
  {
   "cell_type": "code",
   "execution_count": 29,
   "id": "78b3441b-cdec-413e-9a74-0f5d0891eae9",
   "metadata": {},
   "outputs": [
    {
     "data": {
      "text/plain": [
       "87"
      ]
     },
     "execution_count": 29,
     "metadata": {},
     "output_type": "execute_result"
    }
   ],
   "source": [
    "len(cost_tracker)"
   ]
  },
  {
   "cell_type": "code",
   "execution_count": 30,
   "id": "76b1280f-a681-4ea3-8e37-07866fc84f7c",
   "metadata": {},
   "outputs": [
    {
     "data": {
      "image/png": "[encoded data removed]",
      "text/plain": [
       "<Figure size 1800x432 with 1 Axes>"
      ]
     },
     "metadata": {
      "needs_background": "light"
     },
     "output_type": "display_data"
    }
   ],
   "source": [
    "keys = list(cost_tracker.keys())\n",
    "values = list(cost_tracker.values())\n",
    "\n",
    "# Plotting\n",
    "plt.figure(figsize=(25, 6))\n",
    "plt.bar(keys, values)\n",
    "plt.xlabel('Frame Sequences')\n",
    "plt.ylabel('Cost')\n",
    "plt.title('Cost for Frame Sequences')\n",
    "plt.xticks(rotation=45)  # Rotating x-axis labels for visibility\n",
    "# plt.tight_layout()\n",
    "plt.show()"
   ]
  },
  {
   "cell_type": "code",
   "execution_count": 820,
   "id": "ab6305f4-cb49-417a-97a8-2f658df858d0",
   "metadata": {},
   "outputs": [],
   "source": [
    "# Logic to extract frames with more reconstruction cost\n",
    "# for index, cost in cost_tracker.items():\n",
    "#     if cost > anomaly_threshold:\n",
    "#         keys_to_consider.add(index)\n",
    "        \n",
    "# if len(keys_to_consider) == 0:\n",
    "#     for index,cost in cost_tracker.items():\n",
    "#         if cost > max_insignificant_prediction_score:\n",
    "#             keys_to_consider.add(index)"
   ]
  },
  {
   "cell_type": "code",
   "execution_count": 31,
   "id": "ac0ef38a-653a-49c1-b0f0-656b0f05e040",
   "metadata": {},
   "outputs": [],
   "source": [
    "cost_list = hf.get_values_from_dictionary(cost_tracker)"
   ]
  },
  {
   "cell_type": "code",
   "execution_count": 32,
   "id": "b5ad0ed7-5920-4ee9-9650-7aa9fd1d2bad",
   "metadata": {},
   "outputs": [],
   "source": [
    "# for index, cost in cost_tracker.items():\n",
    "#     cost_list.append(cost)"
   ]
  },
  {
   "cell_type": "code",
   "execution_count": 33,
   "id": "a395e66d-67c2-4e65-b894-a073e9290663",
   "metadata": {},
   "outputs": [],
   "source": [
    "# mean_cost = np.mean(cost_list)\n",
    "# print(f'Mean is {mean_cost}')\n",
    "# std_cost = np.std(cost_list)\n",
    "# cost_threshold = mean_cost\n",
    "# cost_threshold"
   ]
  },
  {
   "cell_type": "code",
   "execution_count": 35,
   "id": "d80afc07-768e-42e7-a2de-02774b00c228",
   "metadata": {},
   "outputs": [
    {
     "data": {
      "text/plain": [
       "68.836075"
      ]
     },
     "execution_count": 35,
     "metadata": {},
     "output_type": "execute_result"
    }
   ],
   "source": [
    "cost_threshold = hf.calculate_prediction_cost_threshold(cost_list)\n",
    "cost_threshold"
   ]
  },
  {
   "cell_type": "code",
   "execution_count": 36,
   "id": "0c914180-f623-4e41-bb90-5ae83bddd8d6",
   "metadata": {},
   "outputs": [],
   "source": [
    "# # Logic to extract frames with more reconstruction cost\n",
    "for index, cost in cost_tracker.items():\n",
    "    if cost > anomaly_threshold:\n",
    "        keys_to_consider.add(index)\n",
    "        \n",
    "if len(keys_to_consider) == 0:\n",
    "    for index,cost in cost_tracker.items():\n",
    "        if cost > cost_threshold:\n",
    "            keys_to_consider.add(index)"
   ]
  },
  {
   "cell_type": "code",
   "execution_count": 37,
   "id": "6630f4f1-2a6c-4e2c-9287-4c7fad16abdb",
   "metadata": {},
   "outputs": [],
   "source": [
    "# cost_tracker['49_0']"
   ]
  },
  {
   "cell_type": "code",
   "execution_count": 38,
   "id": "083c1277-c845-4923-a399-f9ee975bb3a9",
   "metadata": {},
   "outputs": [],
   "source": [
    "# for index, cost in cost_tracker.items():\n",
    "#     if cost > cost_threshold:\n",
    "#         keys_to_consider.add(index)"
   ]
  },
  {
   "cell_type": "code",
   "execution_count": 39,
   "id": "5bcf8c8f-a32a-478c-954a-4894d8f1e068",
   "metadata": {},
   "outputs": [
    {
     "data": {
      "text/plain": [
       "8"
      ]
     },
     "execution_count": 39,
     "metadata": {},
     "output_type": "execute_result"
    }
   ],
   "source": [
    "len(keys_to_consider)"
   ]
  },
  {
   "cell_type": "code",
   "execution_count": 40,
   "id": "924d5b5a-f41c-4e26-8434-df61563e6c1f",
   "metadata": {},
   "outputs": [],
   "source": [
    "#Logic to populate original frames for video summarization\n",
    "\n",
    "original_frames_for_summarization = []\n",
    "\n",
    "frame_key_list = []\n",
    "\n",
    "for items in keys_to_consider:\n",
    "    key = int(items.split('_')[0])\n",
    "    frame_key_list.append(key)\n",
    "   "
   ]
  },
  {
   "cell_type": "code",
   "execution_count": 41,
   "id": "0819a430-f69d-44e1-ac8e-075983677f01",
   "metadata": {},
   "outputs": [
    {
     "data": {
      "text/plain": [
       "[7, 7, 14, 7, 14, 10, 10, 10]"
      ]
     },
     "execution_count": 41,
     "metadata": {},
     "output_type": "execute_result"
    }
   ],
   "source": [
    "frame_key_list"
   ]
  },
  {
   "cell_type": "code",
   "execution_count": 42,
   "id": "4e4e9cd1-da23-418f-893f-990d36854647",
   "metadata": {},
   "outputs": [],
   "source": [
    "sorted_key_list = sorted(frame_key_list)\n",
    "initial_frame_key = sorted_key_list[0]\n",
    "end_frame_key = sorted_key_list[-1]\n",
    "\n",
    "#Appending buffer frame for initial sequence\n",
    "if initial_frame_key > 3:\n",
    "    sorted_key_list.append(initial_frame_key - 1)\n",
    "    sorted_key_list.append(initial_frame_key - 2)\n",
    "    \n",
    "#Appending buffer frame for final sequence\n",
    "# if (end_frame_key + 1) in video_frames_dict:\n",
    "#     sorted_key_list.append(end_frame_key + 1)\n",
    "    \n",
    "frame_key_set = set(sorted(sorted_key_list))\n",
    "frame_key_list = sorted(list(frame_key_set))"
   ]
  },
  {
   "cell_type": "code",
   "execution_count": 43,
   "id": "724046b7-1260-49eb-b3f8-d45aec574a72",
   "metadata": {},
   "outputs": [
    {
     "data": {
      "text/plain": [
       "[5, 6, 7, 9, 10, 14]"
      ]
     },
     "execution_count": 43,
     "metadata": {},
     "output_type": "execute_result"
    }
   ],
   "source": [
    "final_frames_list = []\n",
    "for i in range(len(frame_key_list)):\n",
    "    if i == 0 or i == len(frame_key_list) - 1:\n",
    "        final_frames_list.append(frame_key_list[i])\n",
    "    elif frame_key_list[i] != frame_key_list[i - 1]:\n",
    "        final_frames_list.append(frame_key_list[i] - 1)\n",
    "        final_frames_list.append(frame_key_list[i])\n",
    "    else:\n",
    "        final_frames_list.append(frame_key_list[i])\n",
    "final_frames_list = set(final_frames_list)\n",
    "final_frames_list = sorted(list(final_frames_list))\n",
    "final_frames_list\n",
    "    "
   ]
  },
  {
   "cell_type": "code",
   "execution_count": 44,
   "id": "e332f577-aae7-4e88-ac1c-787da9215414",
   "metadata": {},
   "outputs": [
    {
     "data": {
      "text/plain": [
       "(1411, 1440)"
      ]
     },
     "execution_count": 44,
     "metadata": {},
     "output_type": "execute_result"
    }
   ],
   "source": [
    "new_st1, new_end1 = hf.get_original_frame_numbers(48,30)\n",
    "new_st1,new_end1"
   ]
  },
  {
   "cell_type": "code",
   "execution_count": 45,
   "id": "9d557f83-8301-4ba2-bfc8-fc9c7875e84b",
   "metadata": {},
   "outputs": [],
   "source": [
    "for key in final_frames_list:\n",
    "    start, end = hf.get_original_frame_numbers(key,30)\n",
    "    for j in range(start, end + 1):\n",
    "        original_frame = video_frames_dict[j]\n",
    "        original_frames_for_summarization.append(original_frame)"
   ]
  },
  {
   "cell_type": "code",
   "execution_count": 46,
   "id": "29b7a47d-7a22-40c9-81f3-66c187be9fb3",
   "metadata": {},
   "outputs": [
    {
     "data": {
      "text/plain": [
       "180"
      ]
     },
     "execution_count": 46,
     "metadata": {},
     "output_type": "execute_result"
    }
   ],
   "source": [
    "len(original_frames_for_summarization)"
   ]
  },
  {
   "cell_type": "code",
   "execution_count": 47,
   "id": "372986c4-2179-4f6a-8ae4-96763cc3418c",
   "metadata": {},
   "outputs": [
    {
     "data": {
      "text/plain": [
       "(240, 320, 3)"
      ]
     },
     "execution_count": 47,
     "metadata": {},
     "output_type": "execute_result"
    }
   ],
   "source": [
    "original_frames_for_summarization[-1].shape"
   ]
  },
  {
   "cell_type": "code",
   "execution_count": 48,
   "id": "69936226-fd79-46a0-8286-30c0aa2cc641",
   "metadata": {},
   "outputs": [],
   "source": [
    "fourcc = fourcc = cv2.VideoWriter_fourcc(*'mp4v')\n",
    "fps = 30\n",
    "frame_size = (original_frames_for_summarization[0].shape[1], original_frames_for_summarization[0].shape[0])\n",
    "out = cv2.VideoWriter('anomaly_out_video1.mp4', fourcc, fps, frame_size)\n",
    "\n",
    "\n",
    "for frame in original_frames_for_summarization:\n",
    "    out.write(frame)\n",
    "out.release()"
   ]
  },
  {
   "cell_type": "code",
   "execution_count": 837,
   "id": "a4211245-9008-41d4-b8cd-a94b3a81148a",
   "metadata": {},
   "outputs": [
    {
     "data": {
      "text/plain": [
       "<VideoWriter 0x7f4bc4086c90>"
      ]
     },
     "execution_count": 837,
     "metadata": {},
     "output_type": "execute_result"
    }
   ],
   "source": [
    "out"
   ]
  },
  {
   "cell_type": "code",
   "execution_count": 839,
   "id": "6f6b4265-7c5d-4fb2-91c1-6e4a21dd70b2",
   "metadata": {},
   "outputs": [],
   "source": [
    "\n",
    "# for i in range(new_st1, new_end1 + 1):\n",
    "#     original_frame = video_frames_dict[i]\n",
    "#     hf.display_image(original_frame)\n"
   ]
  }
 ],
 "metadata": {
  "kernelspec": {
   "display_name": "Python 3 (ipykernel)",
   "language": "python",
   "name": "python3"
  },
  "language_info": {
   "codemirror_mode": {
    "name": "ipython",
    "version": 3
   },
   "file_extension": ".py",
   "mimetype": "text/x-python",
   "name": "python",
   "nbconvert_exporter": "python",
   "pygments_lexer": "ipython3",
   "version": "3.9.2"
  }
 },
 "nbformat": 4,
 "nbformat_minor": 5
}
